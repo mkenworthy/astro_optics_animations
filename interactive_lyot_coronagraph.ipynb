{
 "cells": [
  {
   "cell_type": "markdown",
   "metadata": {},
   "source": [
    "# Interactive Lyot coronagraph\n",
    "\n",
    "M Kenworthy // Leiden Observatory // kenworthy@strw.leidenuniv.nl\n",
    "\n",
    "Based on E. Por hcipy tutorials\n"
   ]
  },
  {
   "cell_type": "code",
   "execution_count": 1,
   "metadata": {},
   "outputs": [],
   "source": [
    "from hcipy import *\n",
    "import numpy as np\n",
    "import matplotlib as mpl\n",
    "import matplotlib.pyplot as plt\n",
    "import matplotlib.patches as patches\n",
    "\n",
    "\n",
    "import ipywidgets as widgets\n",
    "from ipywidgets import interactive\n",
    "\n"
   ]
  },
  {
   "cell_type": "code",
   "execution_count": 2,
   "metadata": {},
   "outputs": [
    {
     "data": {
      "application/vnd.jupyter.widget-view+json": {
       "model_id": "4f63400ead10461a915c35b2652be105",
       "version_major": 2,
       "version_minor": 0
      },
      "text/plain": [
       "interactive(children=(FloatSlider(value=2.5, description='dy', max=5.0), FloatSlider(value=2.25, description='…"
      ]
     },
     "metadata": {},
     "output_type": "display_data"
    }
   ],
   "source": [
    "pupil_grid = make_pupil_grid(128, 1.5)\n",
    "focal_grid = make_focal_grid(8, 12)\n",
    "prop = FraunhoferPropagator(pupil_grid, focal_grid)\n",
    "\n",
    "aperture = evaluate_supersampled(circular_aperture(1), pupil_grid, 4)\n",
    "\n",
    "\n",
    "def addtext(a,s):\n",
    "    a.text(0.05, 0.95, s, ha='left', va='top', transform=a.transAxes, color='white', fontsize=20)\n",
    "\n",
    "def f(dy, mdim, b):\n",
    "    fig, (x2, x3, x4, x5, x6) = plt.subplots(1,5,figsize=(14,4))\n",
    "    \n",
    "    for a in (x2,x3,x4,x5,x6):\n",
    "        a.set_aspect('equal')\n",
    "\n",
    "    for a in (x3,x4,x5,x6):\n",
    "        a.get_yaxis().set_ticks([])\n",
    "    \n",
    "    wf = Wavefront(aperture * np.exp(2j * np.pi * pupil_grid.y * dy))\n",
    "\n",
    "    img_ref = prop(wf).intensity\n",
    "    \n",
    "    focal_plane_mask_diameter = mdim\n",
    "    focal_plane_mask_offset = [0, 0]\n",
    "\n",
    "    focal_plane_mask_grid = make_focal_grid(64, focal_plane_mask_diameter / 2).shifted(focal_plane_mask_offset)\n",
    "\n",
    "    focal_plane_mask = lambda grid: 1 - circular_aperture(focal_plane_mask_diameter, center=focal_plane_mask_offset)(grid)\n",
    "\n",
    "    focal_plane_mask_evaluated = evaluate_supersampled(focal_plane_mask, focal_plane_mask_grid, 8)\n",
    "\n",
    "    lyot_stop = evaluate_supersampled(circular_aperture(b), pupil_grid, 4)\n",
    "\n",
    "    \n",
    "    # make two coronagraph propagations to pupil plane - one with lyot mask, one without\n",
    "    coro = LyotCoronagraph(pupil_grid, focal_plane_mask_evaluated, lyot_stop)\n",
    "    coro_without_lyot = LyotCoronagraph(pupil_grid, focal_plane_mask_evaluated, None)\n",
    "\n",
    "    \n",
    "    img_before_fpm = prop(wf)\n",
    "\n",
    "    imshow_field(np.log10(img_before_fpm.intensity / img_ref.max()), vmin=-5, vmax=0, cmap='inferno', ax=x2)\n",
    "    addtext(x2,\"B\")\n",
    "\n",
    "    img_after_fpm = img_before_fpm.copy()\n",
    "    img_after_fpm.electric_field *=focal_plane_mask(img_after_fpm.electric_field.grid)\n",
    "\n",
    "    imshow_field(np.log10(img_after_fpm.intensity / img_ref.max()), vmin=-5, vmax=0, cmap='inferno', ax=x3)\n",
    "    addtext(x3,\"C\")\n",
    "\n",
    "    img_before_lyot_stop = coro_without_lyot(wf)\n",
    "\n",
    "    imshow_field(img_before_lyot_stop.intensity, vmax=1, cmap='inferno', ax=x4)\n",
    "    addtext(x4,\"D\")\n",
    "\n",
    "    img_after_lyot_stop = coro(wf)\n",
    "    \n",
    "    imshow_field(img_after_lyot_stop.intensity, vmax=1, cmap='inferno', ax=x5)\n",
    "    addtext(x5,\"E\")\n",
    "\n",
    "    img_science_plane = prop(coro(wf))\n",
    "    imshow_field(np.log10(img_science_plane.intensity/img_ref.max()), vmin=-5, vmax=0, cmap='inferno', ax=x6)\n",
    "    addtext(x6,\"F\")\n",
    "\n",
    "    x2.scatter(0,0,marker='.',color='white')\n",
    "    #x4.scatter(0,0,marker='.',color='white')\n",
    "    x5.add_patch(patches.Circle((0,0), radius=0.5, fill=None,edgecolor='white',linestyle='--'))\n",
    "    plt.show()\n",
    "\n",
    "interactive_plot = interactive(f, dy=(0.0, 5.0), mdim=(0.5,4.0), b=(0.2, 1.5))\n",
    "output = interactive_plot.children[-1]\n",
    "output.layout.height = '210px'\n",
    "interactive_plot"
   ]
  },
  {
   "cell_type": "markdown",
   "metadata": {},
   "source": [
    "![Coronagraph layout](coronagraph.jpg)"
   ]
  }
 ],
 "metadata": {
  "kernelspec": {
   "display_name": "Python 3",
   "language": "python",
   "name": "python3"
  },
  "language_info": {
   "codemirror_mode": {
    "name": "ipython",
    "version": 3
   },
   "file_extension": ".py",
   "mimetype": "text/x-python",
   "name": "python",
   "nbconvert_exporter": "python",
   "pygments_lexer": "ipython3",
   "version": "3.7.4"
  }
 },
 "nbformat": 4,
 "nbformat_minor": 4
}
